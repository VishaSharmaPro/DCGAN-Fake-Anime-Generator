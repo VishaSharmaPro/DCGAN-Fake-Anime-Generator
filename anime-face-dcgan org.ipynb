{
 "cells": [
  {
   "cell_type": "code",
   "execution_count": null,
   "metadata": {
    "execution": {
     "iopub.execute_input": "2025-05-01T05:26:55.316005Z",
     "iopub.status.busy": "2025-05-01T05:26:55.315728Z",
     "iopub.status.idle": "2025-05-01T05:27:07.553576Z",
     "shell.execute_reply": "2025-05-01T05:27:07.552658Z",
     "shell.execute_reply.started": "2025-05-01T05:26:55.315975Z"
    },
    "trusted": true
   },
   "outputs": [],
   "source": [
    "import os\n",
    "import numpy as np\n",
    "import matplotlib.pyplot as plt\n",
    "import warnings\n",
    "from tqdm.notebook import tqdm\n",
    "\n",
    "import tensorflow as tf\n",
    "from tensorflow import keras\n",
    "from tensorflow.keras.preprocessing.image import load_img, array_to_img\n",
    "from tensorflow.keras.models import Sequential, Model\n",
    "from tensorflow.keras import layers\n",
    "from tensorflow.keras.optimizers import Adam\n",
    "from tensorflow.keras.losses import BinaryCrossentropy\n",
    "\n",
    "warnings.filterwarnings('ignore')"
   ]
  },
  {
   "cell_type": "markdown",
   "metadata": {},
   "source": [
    "## Load the files"
   ]
  },
  {
   "cell_type": "code",
   "execution_count": null,
   "metadata": {
    "execution": {
     "iopub.execute_input": "2025-05-01T05:27:07.555909Z",
     "iopub.status.busy": "2025-05-01T05:27:07.555334Z",
     "iopub.status.idle": "2025-05-01T05:27:07.559256Z",
     "shell.execute_reply": "2025-05-01T05:27:07.558404Z",
     "shell.execute_reply.started": "2025-05-01T05:27:07.555883Z"
    },
    "trusted": true
   },
   "outputs": [],
   "source": [
    "BASEDIR = \"/kaggle/input/anime-faces/data\""
   ]
  },
  {
   "cell_type": "code",
   "execution_count": null,
   "metadata": {
    "execution": {
     "iopub.execute_input": "2025-05-01T05:27:07.560815Z",
     "iopub.status.busy": "2025-05-01T05:27:07.560505Z",
     "iopub.status.idle": "2025-05-01T05:27:07.738819Z",
     "shell.execute_reply": "2025-05-01T05:27:07.738165Z",
     "shell.execute_reply.started": "2025-05-01T05:27:07.560785Z"
    },
    "trusted": true
   },
   "outputs": [],
   "source": [
    "# load complete image path to list\n",
    "image_paths = []\n",
    "for imagename in os.listdir(BASEDIR):\n",
    "    image_path = os.path.join(BASEDIR, imagename)\n",
    "    image_paths.append(image_path)"
   ]
  },
  {
   "cell_type": "code",
   "execution_count": null,
   "metadata": {
    "execution": {
     "iopub.execute_input": "2025-05-01T05:27:07.739705Z",
     "iopub.status.busy": "2025-05-01T05:27:07.739486Z",
     "iopub.status.idle": "2025-05-01T05:27:07.743957Z",
     "shell.execute_reply": "2025-05-01T05:27:07.743176Z",
     "shell.execute_reply.started": "2025-05-01T05:27:07.739686Z"
    },
    "trusted": true
   },
   "outputs": [],
   "source": [
    "print(image_path)"
   ]
  },
  {
   "cell_type": "code",
   "execution_count": null,
   "metadata": {
    "execution": {
     "iopub.execute_input": "2025-05-01T05:27:07.744848Z",
     "iopub.status.busy": "2025-05-01T05:27:07.744621Z",
     "iopub.status.idle": "2025-05-01T05:27:07.760215Z",
     "shell.execute_reply": "2025-05-01T05:27:07.759415Z",
     "shell.execute_reply.started": "2025-05-01T05:27:07.744828Z"
    },
    "trusted": true
   },
   "outputs": [],
   "source": [
    "image_paths[:5]"
   ]
  },
  {
   "cell_type": "code",
   "execution_count": null,
   "metadata": {
    "execution": {
     "iopub.execute_input": "2025-05-01T05:27:07.762618Z",
     "iopub.status.busy": "2025-05-01T05:27:07.762391Z",
     "iopub.status.idle": "2025-05-01T05:27:07.773664Z",
     "shell.execute_reply": "2025-05-01T05:27:07.773031Z",
     "shell.execute_reply.started": "2025-05-01T05:27:07.762599Z"
    },
    "trusted": true
   },
   "outputs": [],
   "source": [
    "len(image_paths)"
   ]
  },
  {
   "cell_type": "code",
   "execution_count": null,
   "metadata": {
    "execution": {
     "iopub.execute_input": "2025-05-01T05:27:07.775440Z",
     "iopub.status.busy": "2025-05-01T05:27:07.775216Z",
     "iopub.status.idle": "2025-05-01T05:27:07.787462Z",
     "shell.execute_reply": "2025-05-01T05:27:07.786748Z",
     "shell.execute_reply.started": "2025-05-01T05:27:07.775422Z"
    },
    "trusted": true
   },
   "outputs": [],
   "source": [
    "# remove unnecessary file\n",
    "image_paths.remove('/kaggle/input/anime-faces/data/data')"
   ]
  },
  {
   "cell_type": "code",
   "execution_count": null,
   "metadata": {
    "execution": {
     "iopub.execute_input": "2025-05-01T05:27:07.788403Z",
     "iopub.status.busy": "2025-05-01T05:27:07.788171Z",
     "iopub.status.idle": "2025-05-01T05:27:07.802639Z",
     "shell.execute_reply": "2025-05-01T05:27:07.801955Z",
     "shell.execute_reply.started": "2025-05-01T05:27:07.788379Z"
    },
    "trusted": true
   },
   "outputs": [],
   "source": [
    "len(image_paths)"
   ]
  },
  {
   "cell_type": "markdown",
   "metadata": {},
   "source": [
    "# Visualize the Image Dataset"
   ]
  },
  {
   "cell_type": "code",
   "execution_count": null,
   "metadata": {
    "execution": {
     "iopub.execute_input": "2025-05-01T05:27:07.803635Z",
     "iopub.status.busy": "2025-05-01T05:27:07.803359Z",
     "iopub.status.idle": "2025-05-01T05:27:10.432696Z",
     "shell.execute_reply": "2025-05-01T05:27:10.431665Z",
     "shell.execute_reply.started": "2025-05-01T05:27:07.803608Z"
    },
    "trusted": true
   },
   "outputs": [],
   "source": [
    "# to display grid of images(7x7)\n",
    "plt.figure(figsize = (20,20))\n",
    "tempimages = image_paths[:49]\n",
    "index = 1\n",
    "\n",
    "for image_path in tempimages:\n",
    "    plt.subplot(7,7,index)\n",
    "    #load the image\n",
    "    img = load_img(image_path)\n",
    "    #convert to numpy array\n",
    "    img = np.array(img)\n",
    "    plt.imshow(img)\n",
    "    plt.axis('off')\n",
    "    #increment the index for next image\n",
    "    index += 1"
   ]
  },
  {
   "cell_type": "raw",
   "metadata": {},
   "source": [
    "# Preprocess Image"
   ]
  },
  {
   "cell_type": "code",
   "execution_count": null,
   "metadata": {
    "execution": {
     "iopub.execute_input": "2025-05-01T05:27:10.434242Z",
     "iopub.status.busy": "2025-05-01T05:27:10.433815Z",
     "iopub.status.idle": "2025-05-01T05:28:38.991529Z",
     "shell.execute_reply": "2025-05-01T05:28:38.990705Z",
     "shell.execute_reply.started": "2025-05-01T05:27:10.434203Z"
    },
    "trusted": true
   },
   "outputs": [],
   "source": [
    "# Load the image and convert to numpy array\n",
    "trainimages = [np.array(load_img(path)) for path in tqdm(image_paths)]   # pehla vala np.array ek image ke pixel ka numpy array bana ta hai\n",
    "print(trainimages[0])\n",
    "trainimages = np.array(trainimages) #  dusra vala  saari images  ka numpy array banata hai"
   ]
  },
  {
   "cell_type": "code",
   "execution_count": null,
   "metadata": {
    "execution": {
     "iopub.execute_input": "2025-05-01T05:28:38.992458Z",
     "iopub.status.busy": "2025-05-01T05:28:38.992239Z",
     "iopub.status.idle": "2025-05-01T05:28:38.997497Z",
     "shell.execute_reply": "2025-05-01T05:28:38.996477Z",
     "shell.execute_reply.started": "2025-05-01T05:28:38.992438Z"
    },
    "trusted": true
   },
   "outputs": [],
   "source": [
    "print(trainimages[0])"
   ]
  },
  {
   "cell_type": "code",
   "execution_count": null,
   "metadata": {
    "execution": {
     "iopub.execute_input": "2025-05-01T05:28:38.998599Z",
     "iopub.status.busy": "2025-05-01T05:28:38.998357Z",
     "iopub.status.idle": "2025-05-01T05:28:39.015051Z",
     "shell.execute_reply": "2025-05-01T05:28:39.014281Z",
     "shell.execute_reply.started": "2025-05-01T05:28:38.998566Z"
    },
    "trusted": true
   },
   "outputs": [],
   "source": [
    "trainimages.shape"
   ]
  },
  {
   "cell_type": "code",
   "execution_count": null,
   "metadata": {
    "execution": {
     "iopub.execute_input": "2025-05-01T05:28:39.016095Z",
     "iopub.status.busy": "2025-05-01T05:28:39.015841Z",
     "iopub.status.idle": "2025-05-01T05:28:39.033301Z",
     "shell.execute_reply": "2025-05-01T05:28:39.032700Z",
     "shell.execute_reply.started": "2025-05-01T05:28:39.016072Z"
    },
    "trusted": true
   },
   "outputs": [],
   "source": [
    "trainimages[0].shape"
   ]
  },
  {
   "cell_type": "code",
   "execution_count": null,
   "metadata": {
    "execution": {
     "iopub.execute_input": "2025-05-01T05:28:39.034157Z",
     "iopub.status.busy": "2025-05-01T05:28:39.033944Z",
     "iopub.status.idle": "2025-05-01T05:28:39.297300Z",
     "shell.execute_reply": "2025-05-01T05:28:39.296551Z",
     "shell.execute_reply.started": "2025-05-01T05:28:39.034133Z"
    },
    "trusted": true
   },
   "outputs": [],
   "source": [
    "#reshape the array \n",
    "trainimages = trainimages.reshape(trainimages.shape[0],64,64,3).astype('float32')"
   ]
  },
  {
   "cell_type": "code",
   "execution_count": null,
   "metadata": {
    "execution": {
     "iopub.execute_input": "2025-05-01T05:28:39.298337Z",
     "iopub.status.busy": "2025-05-01T05:28:39.298135Z",
     "iopub.status.idle": "2025-05-01T05:28:39.730836Z",
     "shell.execute_reply": "2025-05-01T05:28:39.730164Z",
     "shell.execute_reply.started": "2025-05-01T05:28:39.298319Z"
    },
    "trusted": true
   },
   "outputs": [],
   "source": [
    "# normalize the images\n",
    "trainimages = (trainimages - 127.5) / 127.5\n",
    "\n",
    "# yahan par hum normalization mei values ko (-1 to 1) kar rahe hain (0 to 1) nahi kar rahe hain kyunki hum activation function function \"tanh\" use karenge jo ki -1 to 1 demand karta hai"
   ]
  },
  {
   "cell_type": "code",
   "execution_count": null,
   "metadata": {
    "execution": {
     "iopub.execute_input": "2025-05-01T05:28:39.731710Z",
     "iopub.status.busy": "2025-05-01T05:28:39.731511Z",
     "iopub.status.idle": "2025-05-01T05:28:39.737912Z",
     "shell.execute_reply": "2025-05-01T05:28:39.736992Z",
     "shell.execute_reply.started": "2025-05-01T05:28:39.731692Z"
    },
    "trusted": true
   },
   "outputs": [],
   "source": [
    "trainimages[0]"
   ]
  },
  {
   "cell_type": "markdown",
   "metadata": {},
   "source": [
    "# Create Generator and Discriminator"
   ]
  },
  {
   "cell_type": "code",
   "execution_count": null,
   "metadata": {
    "execution": {
     "iopub.execute_input": "2025-05-01T05:28:39.739011Z",
     "iopub.status.busy": "2025-05-01T05:28:39.738809Z",
     "iopub.status.idle": "2025-05-01T05:28:39.750644Z",
     "shell.execute_reply": "2025-05-01T05:28:39.749812Z",
     "shell.execute_reply.started": "2025-05-01T05:28:39.738994Z"
    },
    "trusted": true
   },
   "outputs": [],
   "source": [
    "# latent dimension for random noise\n",
    "\n",
    "LatentDIM = 100   # agar latentdim kam rakhegne jaise ki 10 toh image ke produce hone ki variety less hogi and aga jayada rakhenge jaise 200 toh variety increase hogi\n",
    "\n",
    "# weight initializer\n",
    "WeightInit = keras.initializers.RandomNormal(mean = 0.0 , stddev = 0.02)\n",
    "\n",
    "# number of channels of the image\n",
    "Channels = 3  # because of RGB\n",
    "\n",
    "# Mean = 0.0 → \"Average salary\" zero rakho\n",
    "# Stddev = 0.02 → \"Salary range\" bahut chhota rakho (±0.04 ke around)\n",
    "\n",
    "# Galat Tarika : Kisi ko ₹1,00,000 salary, kisi ko ₹500 dena → System fail!\n",
    "# Sahi Tarika (stddev=0.02) : Sabko ₹9,800-₹10,200 ke beech salary dena → Stable system\n",
    "# Zyada bade weights → Network fail ho jata hai, Chhote weights se model aram se seekhta hai\n",
    "\n",
    "# Kyun Mean=0? = Balance Ke Liye: Positive/Negative dono tarah ke connections ban paaye ,Jaise company me HR aur IT dono departments ka balance"
   ]
  },
  {
   "cell_type": "markdown",
   "metadata": {},
   "source": [
    "# Generator Model\n",
    "\n",
    "Generator model will create new images similar to training data from random noise"
   ]
  },
  {
   "cell_type": "code",
   "execution_count": null,
   "metadata": {
    "execution": {
     "iopub.execute_input": "2025-05-01T05:28:39.754043Z",
     "iopub.status.busy": "2025-05-01T05:28:39.753784Z",
     "iopub.status.idle": "2025-05-01T05:28:41.917363Z",
     "shell.execute_reply": "2025-05-01T05:28:41.916611Z",
     "shell.execute_reply.started": "2025-05-01T05:28:39.754023Z"
    },
    "trusted": true
   },
   "outputs": [],
   "source": [
    "model = Sequential(name = 'generator')\n",
    "\n",
    "# 1d random noise\n",
    "\n",
    "model.add(layers.Dense(8 * 8 * 512, input_dim = LatentDIM))\n",
    "\n",
    "#model.add(layers.BatchNormalization())\n",
    "model.add(layers.ReLU())\n",
    "\n",
    "# convert 1d to 3d\n",
    "model.add(layers.Reshape((8,8,512)))\n",
    "\n",
    "\n",
    "# umsample to 16 x 16\n",
    "\n",
    "model.add(layers.Conv2DTranspose(256, (4,4), strides = (2,2), padding = 'same',kernel_initializer = WeightInit))          \n",
    "#model.add(layers.BatchNormalization())\n",
    "model.add(layers.ReLU())\n",
    "\n",
    "\n",
    "# umsample to 32 x 32\n",
    "\n",
    "model.add(layers.Conv2DTranspose(128, (4,4), strides = (2,2), padding = 'same',kernel_initializer = WeightInit))          \n",
    "#model.add(layers.BatchNormalization())\n",
    "model.add(layers.ReLU())\n",
    "\n",
    "# umsample to 64 x 64\n",
    "\n",
    "model.add(layers.Conv2DTranspose(64, (4,4), strides = (2,2), padding = 'same',kernel_initializer = WeightInit))          \n",
    "#model.add(layers.BatchNormalization())\n",
    "model.add(layers.ReLU())\n",
    "\n",
    "\n",
    "model.add(layers.Conv2D(Channels, (4,4), padding ='same', activation = 'tanh'))\n",
    "\n",
    "generator = model\n",
    "generator.summary()\n",
    "\n",
    "# conv2DTranspose() upsampling ke liye hota hai jabki conv2d downsampling ke liye use hoti hai\n",
    "# Yeh 2 lines ka matlab hai:\n",
    "\n",
    "# Pehle ek dense layer se 1D noise vector (size LatentDIM, jaise 100) ko convert kiya 8×8×512 neurons mein (matlab total 32768 units).\n",
    "\n",
    "# Phir usko 3D tensor mein reshape kiya: (8, 8, 512) → jaise image feature map ban gaya ho."
   ]
  },
  {
   "cell_type": "markdown",
   "metadata": {},
   "source": [
    "### Discriminator Model\n",
    "\n",
    "Discriminator model will classify the images from the generator to check whether it is real or fake images"
   ]
  },
  {
   "cell_type": "code",
   "execution_count": null,
   "metadata": {
    "execution": {
     "iopub.execute_input": "2025-05-01T05:28:41.918733Z",
     "iopub.status.busy": "2025-05-01T05:28:41.918516Z",
     "iopub.status.idle": "2025-05-01T05:28:42.257839Z",
     "shell.execute_reply": "2025-05-01T05:28:42.257170Z",
     "shell.execute_reply.started": "2025-05-01T05:28:41.918714Z"
    },
    "trusted": true
   },
   "outputs": [],
   "source": [
    "model = Sequential(name = 'discriminator')\n",
    "input_shape = (64,64,3)\n",
    "\n",
    "alpha = 0.2\n",
    "\n",
    "\n",
    "# create conv layers\n",
    "model.add(layers.Conv2D(64, (4,4), strides = (2,2), padding = 'same', input_shape = input_shape))\n",
    "model.add(layers.BatchNormalization())\n",
    "model.add(layers.LeakyReLU(alpha = alpha))\n",
    "\n",
    "# downsampling the images\n",
    "model.add(layers.Conv2D(128, (4,4), strides = (2,2), padding = 'same', input_shape = input_shape))\n",
    "model.add(layers.BatchNormalization())\n",
    "model.add(layers.LeakyReLU(alpha = alpha))\n",
    "\n",
    "model.add(layers.Conv2D(128, (4,4), strides = (2,2), padding = 'same', input_shape = input_shape))\n",
    "model.add(layers.BatchNormalization())\n",
    "model.add(layers.LeakyReLU(alpha = alpha))\n",
    "\n",
    "model.add(layers.Flatten())\n",
    "model.add(layers.Dropout(0.3))\n",
    "\n",
    "\n",
    "# output class \n",
    "model.add(layers.Dense(1,activation = 'sigmoid'))\n",
    "\n",
    "discriminator = model\n",
    "discriminator.summary()"
   ]
  },
  {
   "cell_type": "markdown",
   "metadata": {},
   "source": [
    "## Create DCGAN"
   ]
  },
  {
   "cell_type": "code",
   "execution_count": null,
   "metadata": {
    "execution": {
     "iopub.execute_input": "2025-05-01T05:28:42.258869Z",
     "iopub.status.busy": "2025-05-01T05:28:42.258625Z",
     "iopub.status.idle": "2025-05-01T05:28:42.267298Z",
     "shell.execute_reply": "2025-05-01T05:28:42.266566Z",
     "shell.execute_reply.started": "2025-05-01T05:28:42.258849Z"
    },
    "trusted": true
   },
   "outputs": [],
   "source": [
    "class DCGAN(keras.Model):\n",
    "    def __init__(self, generator, discriminator, LatentDIM):\n",
    "        super().__init__()\n",
    "        self.generator = generator\n",
    "        self.discriminator = discriminator\n",
    "        self.LatentDIM = LatentDIM\n",
    "        self.g_loss_metric = keras.metrics.Mean(name = 'g_loss')\n",
    "        self.d_loss_metric = keras.metrics.Mean(name = 'd_loss')\n",
    "\n",
    "    @property\n",
    "    def metrics(self):\n",
    "        return [self.g_loss_metric, self.d_loss_metric]\n",
    "\n",
    "    def compile(self, g_optimizer, d_optimizer, loss_fn):\n",
    "        super(DCGAN, self).compile()\n",
    "        self.g_optimizer = g_optimizer\n",
    "        self.d_optimizer = d_optimizer\n",
    "        self.loss_fn = loss_fn\n",
    "\n",
    "    def train_step(self, real_images):\n",
    "        # get batch size from data\n",
    "        batch_size = tf.shape(real_images)[0]\n",
    "\n",
    "        #generate random noise\n",
    "        random_noise = tf.random.normal(shape = (batch_size, self.LatentDIM))\n",
    "\n",
    "        # train the discriminator with real(1) and fake(0) images\n",
    "        with tf.GradientTape() as tape:\n",
    "            #compute loss on real images\n",
    "            pred_real = self.discriminator(real_images, training = True)\n",
    "\n",
    "            # generate real images labels\n",
    "            real_labels = tf.ones((batch_size, 1))\n",
    "            # label smoothing\n",
    "            real_labels += 0.05 * tf.random.uniform(tf.shape(real_labels))\n",
    "\n",
    "            d_loss_real = self.loss_fn(real_labels, pred_real)\n",
    "\n",
    "            #compute loss on fake images\n",
    "            fake_images = self.generator(random_noise)\n",
    "            pred_fake = self.discriminator(fake_images, training = True)\n",
    "\n",
    "            #generate fake labels\n",
    "            fake_labels = tf.zeros((batch_size,1))\n",
    "            d_loss_fake = self.loss_fn(fake_labels,pred_fake)\n",
    "\n",
    "            #Agar fake pe bhi noise daaloge (0 ± 0.05), toh generator confuse hoga ki \"thoda fake chal jayega\" . real_labels pe chal jaata hai kyunuki thodi kum real image chalegi.\n",
    "\n",
    "            # total discriminator loss \n",
    "            d_loss = (d_loss_real + d_loss_fake) / 2\n",
    "\n",
    "\n",
    "        # compute discriminator gradients\n",
    "        gradients = tape.gradient(d_loss, self.discriminator.trainable_variables)\n",
    "\n",
    "        # update the gradients\n",
    "        self.d_optimizer.apply_gradients(zip(gradients, self.discriminator.trainable_variables))\n",
    "\n",
    "        # train generator model\n",
    "        labels = tf.ones((batch_size,1))\n",
    "\n",
    "        # generator wants discriminator to think that fake images are real\n",
    "        with tf.GradientTape() as tape:\n",
    "            #generate fake images from generator\n",
    "            fake_images = self.generator(random_noise,training = True)\n",
    "\n",
    "            # classify images as real or fake\n",
    "            pred_fake = self.discriminator(fake_images,training = True)\n",
    "\n",
    "            # compute loss\n",
    "            g_loss = self.loss_fn(labels, pred_fake)\n",
    "\n",
    "        # compute gradients\n",
    "        gradients = tape.gradient(g_loss, self.generator.trainable_variables)\n",
    "\n",
    "        # update gradients\n",
    "        self.g_optimizer.apply_gradients(zip(gradients, self.generator.trainable_variables))\n",
    "\n",
    "        # update states for both models\n",
    "        self.d_loss_metric.update_state(d_loss)\n",
    "        self.g_loss_metric.update_state(g_loss)\n",
    "\n",
    "\n",
    "        return {'d_loss' : self.d_loss_metric.result(),'gloss': self.g_loss_metric.result()}\n",
    "            \n",
    "            \n",
    "        "
   ]
  },
  {
   "cell_type": "code",
   "execution_count": null,
   "metadata": {
    "execution": {
     "iopub.execute_input": "2025-05-01T05:28:42.268333Z",
     "iopub.status.busy": "2025-05-01T05:28:42.268053Z",
     "iopub.status.idle": "2025-05-01T05:28:42.284219Z",
     "shell.execute_reply": "2025-05-01T05:28:42.283575Z",
     "shell.execute_reply.started": "2025-05-01T05:28:42.268305Z"
    },
    "trusted": true
   },
   "outputs": [],
   "source": [
    "class DCGANMonitor(keras.callbacks.Callback):\n",
    "    def __init__(self, num_imgs= 25, latent_dim = 100):\n",
    "        self.num_imgs = num_imgs\n",
    "        self.latent_dim = latent_dim\n",
    "\n",
    "        #create random noise for generating images\n",
    "        self.noise = tf.random.normal((25, latent_dim))\n",
    "\n",
    "    def on_epoch_end(self, epoch,logs = None):\n",
    "        # generate images from noise\n",
    "        g_img = self.model.generator(self.noise)\n",
    "        # denormalise images \n",
    "        g_img = (g_img * 127.5) + 127.5\n",
    "        g_img.numpy()\n",
    "\n",
    "        fig = plt.figure(figsize=(8,8))\n",
    "        for i in range(self.num_imgs):\n",
    "            plt.subplot(5,5,i+1)\n",
    "            img = array_to_img(g_img[i])\n",
    "            plt.imshow(img)\n",
    "            plt.axis('off')\n",
    "\n",
    "        plt.show()\n",
    "\n",
    "    def on_train_end(self,logs = None):\n",
    "        self.model.generator.save('generator.h5')"
   ]
  },
  {
   "cell_type": "code",
   "execution_count": null,
   "metadata": {
    "execution": {
     "iopub.execute_input": "2025-05-01T05:28:42.285082Z",
     "iopub.status.busy": "2025-05-01T05:28:42.284913Z",
     "iopub.status.idle": "2025-05-01T05:28:42.307890Z",
     "shell.execute_reply": "2025-05-01T05:28:42.307181Z",
     "shell.execute_reply.started": "2025-05-01T05:28:42.285066Z"
    },
    "trusted": true
   },
   "outputs": [],
   "source": [
    "dcgan = DCGAN( generator = generator ,discriminator = discriminator, LatentDIM=LatentDIM)"
   ]
  },
  {
   "cell_type": "code",
   "execution_count": null,
   "metadata": {
    "execution": {
     "iopub.execute_input": "2025-05-01T05:28:42.308810Z",
     "iopub.status.busy": "2025-05-01T05:28:42.308554Z",
     "iopub.status.idle": "2025-05-01T05:28:42.323700Z",
     "shell.execute_reply": "2025-05-01T05:28:42.322922Z",
     "shell.execute_reply.started": "2025-05-01T05:28:42.308783Z"
    },
    "trusted": true
   },
   "outputs": [],
   "source": [
    "D_LR = 0.0001\n",
    "G_LR = 0.0003\n",
    "\n",
    "#generator ko yahan faster train kara ja raha hai jayada learning rate de kar kyunki discrimintor ka learning rate jyadda hogaya toh voh generator ko hamesha supress kardiya karega and generator kabhi discriminator ko fool nhi kar payega\n",
    "\n",
    "dcgan.compile(g_optimizer = Adam(learning_rate = G_LR, beta_1 = 0.5), d_optimizer = Adam(learning_rate = D_LR, beta_1 =0.5),loss_fn = BinaryCrossentropy())"
   ]
  },
  {
   "cell_type": "code",
   "execution_count": null,
   "metadata": {
    "execution": {
     "iopub.execute_input": "2025-05-01T05:47:41.264988Z",
     "iopub.status.busy": "2025-05-01T05:47:41.264706Z",
     "iopub.status.idle": "2025-05-01T06:03:59.628005Z",
     "shell.execute_reply": "2025-05-01T06:03:59.627195Z",
     "shell.execute_reply.started": "2025-05-01T05:47:41.264966Z"
    },
    "trusted": true
   },
   "outputs": [],
   "source": [
    "N_EPOCHS = 40\n",
    "dcgan.fit(trainimages, epochs = N_EPOCHS, callbacks = [DCGANMonitor()])"
   ]
  },
  {
   "cell_type": "markdown",
   "metadata": {},
   "source": [
    "## Generate New Anime Image"
   ]
  },
  {
   "cell_type": "code",
   "execution_count": null,
   "metadata": {
    "execution": {
     "iopub.execute_input": "2025-05-01T06:05:08.147984Z",
     "iopub.status.busy": "2025-05-01T06:05:08.147634Z",
     "iopub.status.idle": "2025-05-01T06:05:08.205772Z",
     "shell.execute_reply": "2025-05-01T06:05:08.204938Z",
     "shell.execute_reply.started": "2025-05-01T06:05:08.147952Z"
    },
    "trusted": true
   },
   "outputs": [],
   "source": [
    "\n",
    "noise = tf.random.normal((25, 100))\n",
    "fig = plt.figure(figsize = (2,2))\n",
    " # generate images from noise\n",
    "g_img = dcgan.generator(noise)\n",
    "# denormalise images \n",
    "g_img = (g_img * 127.5) + 127.5\n",
    "g_img.numpy()\n",
    "    \n",
    "           \n",
    "\n",
    "img = array_to_img(g_img[0])\n",
    "plt.imshow(img)\n",
    "plt.axis('off')\n",
    "\n",
    "plt.show()"
   ]
  },
  {
   "cell_type": "code",
   "execution_count": null,
   "metadata": {
    "execution": {
     "iopub.execute_input": "2025-05-01T06:04:14.989746Z",
     "iopub.status.busy": "2025-05-01T06:04:14.989456Z",
     "iopub.status.idle": "2025-05-01T06:04:15.039300Z",
     "shell.execute_reply": "2025-05-01T06:04:15.038430Z",
     "shell.execute_reply.started": "2025-05-01T06:04:14.989722Z"
    },
    "trusted": true
   },
   "outputs": [],
   "source": [
    "noise = tf.random.normal((25, 100))\n",
    "fig = plt.figure(figsize = (3,3))\n",
    " # generate images from noise\n",
    "g_img = dcgan.generator(noise)\n",
    "# denormalise images \n",
    "g_img = (g_img * 127.5) + 127.5\n",
    "g_img.numpy()\n",
    "    \n",
    "           \n",
    "\n",
    "img = array_to_img(g_img[0])\n",
    "plt.imshow(img)\n",
    "plt.axis('off')\n",
    "\n",
    "plt.show()"
   ]
  },
  {
   "cell_type": "code",
   "execution_count": null,
   "metadata": {
    "trusted": true
   },
   "outputs": [],
   "source": [
    "model.save(\"dcgan_model.h5\")\n"
   ]
  },
  {
   "cell_type": "code",
   "execution_count": null,
   "metadata": {
    "trusted": true
   },
   "outputs": [],
   "source": [
    "import tensorflow as tf\n",
    "\n",
    "# Load the saved Keras model\n",
    "model = tf.keras.models.load_model(\"dcgan_model.h5\")\n",
    "\n",
    "# Convert to TensorFlow Lite\n",
    "converter = tf.lite.TFLiteConverter.from_keras_model(model)\n",
    "tflite_model = converter.convert()\n",
    "\n",
    "# Save the converted model\n",
    "with open(\"dcgan_model.tflite\", \"wb\") as f:\n",
    "    f.write(tflite_model)\n"
   ]
  },
  {
   "cell_type": "code",
   "execution_count": 1,
   "metadata": {
    "execution": {
     "iopub.execute_input": "2025-05-30T09:25:36.409447Z",
     "iopub.status.busy": "2025-05-30T09:25:36.409244Z",
     "iopub.status.idle": "2025-05-30T09:25:48.350857Z",
     "shell.execute_reply": "2025-05-30T09:25:48.349942Z",
     "shell.execute_reply.started": "2025-05-30T09:25:36.409428Z"
    },
    "trusted": true
   },
   "outputs": [
    {
     "name": "stdout",
     "output_type": "stream",
     "text": [
      "tensorflow version of model =  2.17.1\n"
     ]
    }
   ],
   "source": [
    "import tensorflow as tf\n",
    "print(\"tensorflow version of model = \",tf.__version__)\n"
   ]
  },
  {
   "cell_type": "code",
   "execution_count": 2,
   "metadata": {
    "execution": {
     "iopub.execute_input": "2025-05-30T09:25:53.672223Z",
     "iopub.status.busy": "2025-05-30T09:25:53.671914Z",
     "iopub.status.idle": "2025-05-30T09:25:53.676952Z",
     "shell.execute_reply": "2025-05-30T09:25:53.676258Z",
     "shell.execute_reply.started": "2025-05-30T09:25:53.672200Z"
    },
    "trusted": true
   },
   "outputs": [
    {
     "name": "stdout",
     "output_type": "stream",
     "text": [
      "keras version of model =  3.5.0\n"
     ]
    }
   ],
   "source": [
    "import keras\n",
    "print(\"keras version of model = \",keras.__version__)\n"
   ]
  },
  {
   "cell_type": "code",
   "execution_count": null,
   "metadata": {
    "trusted": true
   },
   "outputs": [],
   "source": [
    "\n",
    "\n"
   ]
  }
 ],
 "metadata": {
  "kaggle": {
   "accelerator": "gpu",
   "dataSources": [
    {
     "datasetId": 7001145,
     "sourceId": 11212164,
     "sourceType": "datasetVersion"
    }
   ],
   "dockerImageVersionId": 30918,
   "isGpuEnabled": true,
   "isInternetEnabled": false,
   "language": "python",
   "sourceType": "notebook"
  },
  "kernelspec": {
   "display_name": "Python 3",
   "language": "python",
   "name": "python3"
  },
  "language_info": {
   "codemirror_mode": {
    "name": "ipython",
    "version": 3
   },
   "file_extension": ".py",
   "mimetype": "text/x-python",
   "name": "python",
   "nbconvert_exporter": "python",
   "pygments_lexer": "ipython3",
   "version": "3.10.12"
  }
 },
 "nbformat": 4,
 "nbformat_minor": 4
}
